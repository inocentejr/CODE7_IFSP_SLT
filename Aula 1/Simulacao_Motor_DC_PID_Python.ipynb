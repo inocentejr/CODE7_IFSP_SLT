{
  "nbformat": 4,
  "nbformat_minor": 0,
  "metadata": {
    "colab": {
      "name": "Simulacao_Motor_DC_PID.ipynb",
      "provenance": [],
      "collapsed_sections": [],
      "toc_visible": true,
      "include_colab_link": true
    },
    "kernelspec": {
      "name": "python3",
      "display_name": "Python 3"
    },
    "language_info": {
      "name": "python"
    }
  },
  "cells": [
    {
      "cell_type": "markdown",
      "metadata": {
        "id": "view-in-github",
        "colab_type": "text"
      },
      "source": [
        "<a href=\"https://colab.research.google.com/github/inocentejr/CODE7_IFSP_SLT/blob/main/Aula%201/Simulacao_Motor_DC_PID_Python.ipynb\" target=\"_parent\"><img src=\"https://colab.research.google.com/assets/colab-badge.svg\" alt=\"Open In Colab\"/></a>"
      ]
    },
    {
      "cell_type": "markdown",
      "source": [
        "# Aula 1 - Simulação de Motor DC com Python"
      ],
      "metadata": {
        "id": "pLS2vfLWzOQm"
      }
    },
    {
      "cell_type": "code",
      "execution_count": null,
      "metadata": {
        "colab": {
          "base_uri": "https://localhost:8080/"
        },
        "id": "AZU_pdvTdqJJ",
        "outputId": "7576746e-1852-45a4-f982-44ab027f5eaa"
      },
      "outputs": [
        {
          "output_type": "stream",
          "name": "stdout",
          "text": [
            "Collecting control\n",
            "  Downloading control-0.9.1.tar.gz (357 kB)\n",
            "\u001b[?25l\r\u001b[K     |█                               | 10 kB 23.3 MB/s eta 0:00:01\r\u001b[K     |█▉                              | 20 kB 26.3 MB/s eta 0:00:01\r\u001b[K     |██▊                             | 30 kB 12.8 MB/s eta 0:00:01\r\u001b[K     |███▋                            | 40 kB 9.9 MB/s eta 0:00:01\r\u001b[K     |████▋                           | 51 kB 7.8 MB/s eta 0:00:01\r\u001b[K     |█████▌                          | 61 kB 8.2 MB/s eta 0:00:01\r\u001b[K     |██████▍                         | 71 kB 7.4 MB/s eta 0:00:01\r\u001b[K     |███████▎                        | 81 kB 8.2 MB/s eta 0:00:01\r\u001b[K     |████████▎                       | 92 kB 8.1 MB/s eta 0:00:01\r\u001b[K     |█████████▏                      | 102 kB 7.4 MB/s eta 0:00:01\r\u001b[K     |██████████                      | 112 kB 7.4 MB/s eta 0:00:01\r\u001b[K     |███████████                     | 122 kB 7.4 MB/s eta 0:00:01\r\u001b[K     |████████████                    | 133 kB 7.4 MB/s eta 0:00:01\r\u001b[K     |████████████▉                   | 143 kB 7.4 MB/s eta 0:00:01\r\u001b[K     |█████████████▊                  | 153 kB 7.4 MB/s eta 0:00:01\r\u001b[K     |██████████████▋                 | 163 kB 7.4 MB/s eta 0:00:01\r\u001b[K     |███████████████▋                | 174 kB 7.4 MB/s eta 0:00:01\r\u001b[K     |████████████████▌               | 184 kB 7.4 MB/s eta 0:00:01\r\u001b[K     |█████████████████▍              | 194 kB 7.4 MB/s eta 0:00:01\r\u001b[K     |██████████████████▎             | 204 kB 7.4 MB/s eta 0:00:01\r\u001b[K     |███████████████████▎            | 215 kB 7.4 MB/s eta 0:00:01\r\u001b[K     |████████████████████▏           | 225 kB 7.4 MB/s eta 0:00:01\r\u001b[K     |█████████████████████           | 235 kB 7.4 MB/s eta 0:00:01\r\u001b[K     |██████████████████████          | 245 kB 7.4 MB/s eta 0:00:01\r\u001b[K     |███████████████████████         | 256 kB 7.4 MB/s eta 0:00:01\r\u001b[K     |███████████████████████▉        | 266 kB 7.4 MB/s eta 0:00:01\r\u001b[K     |████████████████████████▊       | 276 kB 7.4 MB/s eta 0:00:01\r\u001b[K     |█████████████████████████▋      | 286 kB 7.4 MB/s eta 0:00:01\r\u001b[K     |██████████████████████████▌     | 296 kB 7.4 MB/s eta 0:00:01\r\u001b[K     |███████████████████████████▌    | 307 kB 7.4 MB/s eta 0:00:01\r\u001b[K     |████████████████████████████▍   | 317 kB 7.4 MB/s eta 0:00:01\r\u001b[K     |█████████████████████████████▎  | 327 kB 7.4 MB/s eta 0:00:01\r\u001b[K     |██████████████████████████████▏ | 337 kB 7.4 MB/s eta 0:00:01\r\u001b[K     |███████████████████████████████▏| 348 kB 7.4 MB/s eta 0:00:01\r\u001b[K     |████████████████████████████████| 357 kB 7.4 MB/s \n",
            "\u001b[?25hRequirement already satisfied: numpy in /usr/local/lib/python3.7/dist-packages (from control) (1.21.5)\n",
            "Requirement already satisfied: scipy in /usr/local/lib/python3.7/dist-packages (from control) (1.4.1)\n",
            "Requirement already satisfied: matplotlib in /usr/local/lib/python3.7/dist-packages (from control) (3.2.2)\n",
            "Requirement already satisfied: pyparsing!=2.0.4,!=2.1.2,!=2.1.6,>=2.0.1 in /usr/local/lib/python3.7/dist-packages (from matplotlib->control) (3.0.7)\n",
            "Requirement already satisfied: python-dateutil>=2.1 in /usr/local/lib/python3.7/dist-packages (from matplotlib->control) (2.8.2)\n",
            "Requirement already satisfied: kiwisolver>=1.0.1 in /usr/local/lib/python3.7/dist-packages (from matplotlib->control) (1.3.2)\n",
            "Requirement already satisfied: cycler>=0.10 in /usr/local/lib/python3.7/dist-packages (from matplotlib->control) (0.11.0)\n",
            "Requirement already satisfied: six>=1.5 in /usr/local/lib/python3.7/dist-packages (from python-dateutil>=2.1->matplotlib->control) (1.15.0)\n",
            "Building wheels for collected packages: control\n",
            "  Building wheel for control (setup.py) ... \u001b[?25l\u001b[?25hdone\n",
            "  Created wheel for control: filename=control-0.9.1-py2.py3-none-any.whl size=364703 sha256=4ccf69b55d3d43f89d12fb3cac76bf830a845342b86abe94f5dad091b8c817d3\n",
            "  Stored in directory: /root/.cache/pip/wheels/b1/50/22/8005107713828997d1af664fbd629c7f935a1b87fc2f4ba6c1\n",
            "Successfully built control\n",
            "Installing collected packages: control\n",
            "Successfully installed control-0.9.1\n"
          ]
        }
      ],
      "source": [
        "pip install control"
      ]
    },
    {
      "cell_type": "markdown",
      "source": [
        "## Carregamento dos módulos necessários\n",
        "\n",
        "Para rodar este programa precisaremos dos módulos:\n",
        "\n",
        "- control\n",
        "- plotly.express\n",
        "- matplotlib.pyplot"
      ],
      "metadata": {
        "id": "QoczOv2Penta"
      }
    },
    {
      "cell_type": "code",
      "source": [
        "import control\n",
        "import plotly.express as px\n",
        "import matplotlib.pyplot as plt"
      ],
      "metadata": {
        "id": "lU13hItseQ-j"
      },
      "execution_count": null,
      "outputs": []
    },
    {
      "cell_type": "markdown",
      "source": [
        "# Modelagem do Motor\n",
        "\n",
        "A simulação do sistema dinâmico utiliza funções muito parecidas com as do Control Toolbox do MATLAB."
      ],
      "metadata": {
        "id": "o1Jq_HHRzn1Q"
      }
    },
    {
      "cell_type": "code",
      "source": [
        "## Parâmetros físicos do motor\n",
        "\n",
        "J = 0.01 #Inércia do rotor [kgm²/s²]\n",
        "B = 0.1 #Atrito viscoso do rotor [Nms]\n",
        "Kv = 0.01\n",
        "Kt = 0.01\n",
        "Ra = 1 #Resistência elétrica da armadura [Ohm]\n",
        "La = 0.5 #Indutância da armadura [H]\n",
        "\n",
        "## Função de Transferência\n",
        "s = control.tf('s') \n",
        "G = Kt/((J*s+B)*(Ra+La*s)+Kv*Kt)\n",
        "G"
      ],
      "metadata": {
        "id": "cpLQH6hTeSQq",
        "colab": {
          "base_uri": "https://localhost:8080/",
          "height": 39
        },
        "outputId": "70e0955a-1fc6-49f8-ec1d-2bf7b3e59810"
      },
      "execution_count": null,
      "outputs": [
        {
          "output_type": "execute_result",
          "data": {
            "text/latex": "$$\\frac{0.01}{0.005 s^2 + 0.06 s + 0.1001}$$",
            "text/plain": [
              "TransferFunction(array([0.01]), array([0.005 , 0.06  , 0.1001]))"
            ]
          },
          "metadata": {},
          "execution_count": 5
        }
      ]
    },
    {
      "cell_type": "markdown",
      "source": [
        "## Resposta ao Degrau da Planta"
      ],
      "metadata": {
        "id": "wC9EAcUA0pJY"
      }
    },
    {
      "cell_type": "code",
      "source": [
        "t,y = control.step_response(G)"
      ],
      "metadata": {
        "id": "DC1MRCJE0nMO"
      },
      "execution_count": null,
      "outputs": []
    },
    {
      "cell_type": "markdown",
      "source": [
        "## Plot dos resultados utilizando o módulo plotly.express"
      ],
      "metadata": {
        "id": "m49OmgRG09_P"
      }
    },
    {
      "cell_type": "code",
      "source": [
        "fig = px.line(x=t,y=y,title='Resposta ao Degrau do Motor CC')\n",
        "fig = fig.update_layout(xaxis_title='Tempo [s]',yaxis_title = 'Velocidade Angular [rad/s]')\n",
        "fig.show()"
      ],
      "metadata": {
        "colab": {
          "base_uri": "https://localhost:8080/",
          "height": 542
        },
        "id": "6orpbP1sfVd2",
        "outputId": "088ee550-0ee2-49c8-f73d-502089174fd0"
      },
      "execution_count": null,
      "outputs": [
        {
          "output_type": "display_data",
          "data": {
            "text/html": [
              "<html>\n",
              "<head><meta charset=\"utf-8\" /></head>\n",
              "<body>\n",
              "    <div>            <script src=\"https://cdnjs.cloudflare.com/ajax/libs/mathjax/2.7.5/MathJax.js?config=TeX-AMS-MML_SVG\"></script><script type=\"text/javascript\">if (window.MathJax) {MathJax.Hub.Config({SVG: {font: \"STIX-Web\"}});}</script>                <script type=\"text/javascript\">window.PlotlyConfig = {MathJaxConfig: 'local'};</script>\n",
              "        <script src=\"https://cdn.plot.ly/plotly-2.8.3.min.js\"></script>                <div id=\"9c6da747-02e1-45e6-91f4-144dd2a8ef70\" class=\"plotly-graph-div\" style=\"height:525px; width:100%;\"></div>            <script type=\"text/javascript\">                                    window.PLOTLYENV=window.PLOTLYENV || {};                                    if (document.getElementById(\"9c6da747-02e1-45e6-91f4-144dd2a8ef70\")) {                    Plotly.newPlot(                        \"9c6da747-02e1-45e6-91f4-144dd2a8ef70\",                        [{\"hovertemplate\":\"x=%{x}<br>y=%{y}<extra></extra>\",\"legendgroup\":\"\",\"line\":{\"color\":\"#636efa\",\"dash\":\"solid\"},\"marker\":{\"symbol\":\"circle\"},\"mode\":\"lines\",\"name\":\"\",\"orientation\":\"v\",\"showlegend\":false,\"x\":[0.0,0.013798257342969937,0.027596514685939873,0.04139477202890981,0.05519302937187975,0.06899128671484968,0.08278954405781962,0.09658780140078956,0.1103860587437595,0.12418431608672943,0.13798257342969936,0.1517808307726693,0.16557908811563923,0.17937734545860917,0.1931756028015791,0.20697386014454905,0.220772117487519,0.23457037483048893,0.24836863217345886,0.2621668895164288,0.2759651468593987,0.2897634042023687,0.3035616615453386,0.31735991888830856,0.33115817623127847,0.34495643357424843,0.35875469091721834,0.3725529482601883,0.3863512056031582,0.4001494629461282,0.4139477202890981,0.42774597763206806,0.441544234975038,0.4553424923180079,0.46914074966097785,0.48293900700394776,0.49673726434691773,0.5105355216898877,0.5243337790328576,0.5381320363758275,0.5519302937187974,0.5657285510617674,0.5795268084047374,0.5933250657477073,0.6071233230906772,0.6209215804336472,0.6347198377766171,0.648518095119587,0.6623163524625569,0.6761146098055268,0.6899128671484969,0.7037111244914668,0.7175093818344367,0.7313076391774066,0.7451058965203766,0.7589041538633465,0.7727024112063164,0.7865006685492864,0.8002989258922564,0.8140971832352263,0.8278954405781962,0.8416936979211661,0.8554919552641361,0.869290212607106,0.883088469950076,0.8968867272930459,0.9106849846360158,0.9244832419789858,0.9382814993219557,0.9520797566649256,0.9658780140078955,0.9796762713508655,0.9934745286938355,1.0072727860368054,1.0210710433797754,1.0348693007227452,1.0486675580657152,1.0624658154086852,1.076264072751655,1.090062330094625,1.1038605874375949,1.1176588447805649,1.131457102123535,1.1452553594665047,1.1590536168094747,1.1728518741524445,1.1866501314954145,1.2004483888383846,1.2142466461813544,1.2280449035243244,1.2418431608672944,1.2556414182102642,1.2694396755532342,1.283237932896204,1.297036190239174,1.310834447582144,1.3246327049251139,1.338430962268084,1.3522292196110537,1.3660274769540237,1.3798257342969937,1.3936239916399635,1.4074222489829336,1.4212205063259036,1.4350187636688734,1.4488170210118434,1.4626152783548132,1.4764135356977832,1.4902117930407532,1.504010050383723,1.517808307726693,1.531606565069663,1.5454048224126329,1.559203079755603,1.5730013370985727,1.5867995944415427,1.6005978517845127,1.6143961091274825,1.6281943664704526,1.6419926238134224,1.6557908811563924,1.6695891384993624,1.6833873958423322,1.6971856531853022,1.7109839105282723,1.724782167871242,1.738580425214212,1.7523786825571819,1.766176939900152,1.779975197243122,1.7937734545860917,1.8075717119290617,1.8213699692720315,1.8351682266150016,1.8489664839579716,1.8627647413009414,1.8765629986439114,1.8903612559868814,1.9041595133298512,1.9179577706728212,1.931756028015791,1.945554285358761,1.959352542701731,1.973150800044701,1.986949057387671,2.0007473147306407,2.0145455720736107,2.0283438294165808,2.042142086759551,2.0559403441025204,2.0697386014454904,2.0835368587884604,2.0973351161314304,2.1111333734744004,2.1249316308173705,2.13872988816034,2.15252814550331,2.16632640284628,2.18012466018925,2.19392291753222,2.2077211748751897,2.2215194322181597,2.2353176895611298,2.2491159469040998,2.26291420424707,2.2767124615900394,2.2905107189330094,2.3043089762759794,2.3181072336189494,2.3319054909619195,2.345703748304889,2.359502005647859,2.373300262990829,2.387098520333799,2.400896777676769,2.414695035019739,2.4284932923627087,2.4422915497056787,2.4560898070486488,2.469888064391619,2.483686321734589,2.4974845790775584,2.5112828364205284,2.5250810937634984,2.5388793511064685,2.5526776084494385,2.566475865792408,2.580274123135378,2.594072380478348,2.607870637821318,2.621668895164288,2.6354671525072577,2.6492654098502277,2.6630636671931978,2.676861924536168,2.690660181879138,2.7044584392221074,2.7182566965650774,2.7320549539080474,2.7458532112510174,2.7596514685939875,2.7734497259369575,2.787247983279927,2.801046240622897,2.814844497965867,2.828642755308837,2.842441012651807,2.8562392699947767,2.8700375273377468,2.8838357846807168,2.897634042023687,2.911432299366657,2.9252305567096264,2.9390288140525964,2.9528270713955664,2.9666253287385365,2.9804235860815065,2.994221843424476,3.008020100767446,3.021818358110416,3.035616615453386,3.049414872796356,3.063213130139326,3.0770113874822957,3.0908096448252658,3.104607902168236,3.118406159511206,3.132204416854176,3.1460026741971454,3.1598009315401154,3.1735991888830855,3.1873974462260555,3.2011957035690255,3.214993960911995,3.228792218254965,3.242590475597935,3.256388732940905,3.270186990283875,3.2839852476268447,3.2977835049698148,3.311581762312785,3.325380019655755,3.339178276998725,3.3529765343416944,3.3667747916846644,3.3805730490276344,3.3943713063706045,3.4081695637135745,3.4219678210565445,3.435766078399514,3.449564335742484],\"xaxis\":\"x\",\"y\":[0.0,0.0001802479481980425,0.0006831753391972028,0.001457776083903798,0.0024598734461057773,0.0036512330374337664,0.004998790299113704,0.006473977712993136,0.008052138886060694,0.00971201830936147,0.011435317035416712,0.013206305775492606,0.015011488013293,0.01683930668575073,0.018679888812746855,0.020524823181639413,0.022366966823233664,0.024200276565297232,0.026019662428389104,0.027820860045755236,0.029600319652293428,0.03135510950403046,0.03308283186521673,0.03478154994028255,0.03644972433709336,0.0380861578301758,0.039689947351336685,0.04126044227338944,0.042797208173171716,0.04429999536498317,0.04576871158699126,0.04720339830279081,0.048604210149676634,0.04997139712562088,0.05130528915959031,0.0526062827556968,0.05387482944162159,0.055111425786551656,0.056316604784179033,0.05749092842271857,0.0586349812869002,0.05974936505692716,0.060834693786843634,0.061891589859957026,0.06292068053220158,0.06392259498586374,0.06489796182613589,0.06584740696171545,0.06677155181828787,0.06767101184036979,0.06854639524277084,0.06939830197796716,0.07022732289006559,0.07103403902985615,0.07181902110877675,0.07258282907250974,0.07332601177745247,0.07404910675549958,0.07475264005448692,0.07543712614331168,0.0761030678721925,0.07675095647979499,0.07738127164004596,0.07799448154241566,0.07859104300027905,0.07917140158269063,0.07973599176553743,0.08028523709858205,0.08081955038538467,0.08133933387350667,0.08184497945275909,0.08233686885957212,0.08281537388583379,0.08328085659078274,0.08373366951474455,0.08417415589368007,0.0846026498736683,0.08501947672458056,0.085424953052319,0.0858193870090933,0.08620307850129653,0.08657631939461627,0.08693939371608293,0.08729257785281297,0.08763614074725336,0.08797034408877571,0.08829544250150415,0.08861168372829213,0.08891930881078984,0.0892185522655662,0.08950964225626935,0.08979280076182528,0.09006824374068864,0.09033618129117144,0.09059681780788485,0.09085035213433823,0.09109697771174556,0.09133688272409561,0.09157025023954665,0.09179725834820977,0.09201808029638829,0.09223288461734248,0.09244183525865078,0.09264509170623941,0.09284280910515343,0.09303513837714222,0.0932222263351327,0.09340421579466314,0.09358124568234996,0.09375345114145964,0.09392096363465649,0.09408391104399651,0.09424241776823651,0.09439660481752633,0.09454658990555105,0.09469248753918864,0.09483440910574754,0.09497246295784686,0.095106754496001,0.09523738624896903,0.09536445795192758,0.09548806662252499,0.09560830663487298,0.09572526979153058,0.09583904539353408,0.09594972030852507,0.09605737903702774,0.09616210377692504,0.09626397448618197,0.09636306894386361,0.09645946280949326,0.09655322968079619,0.09664444114987197,0.09673316685783842,0.09681947454798806,0.0969034301174978,0.09698509766773074,0.0970645395531684,0.09714181642901061,0.09721698729747899,0.09729010955285956,0.09736123902531843,0.09743043002352403,0.09749773537610842,0.09756320647199905,0.09762689329965182,0.09768884448521542,0.09774910732965564,0.09780772784486853,0.0978647507888094,0.09792021969966475,0.09797417692909313,0.09802666367456021,0.09807772001079279,0.0981273849203757,0.09817569632351501,0.09822269110699017,0.09826840515231716,0.0983128733631443,0.09835612969190138,0.09839820716572271,0.0984391379116636,0.09847895318122978,0.0985176833742383,0.09855535806202824,0.09859200601003881,0.0986276551997722,0.09866233285015792,0.09869606543833491,0.09872887871986727,0.09876079774840911,0.09879184689483342,0.09882204986583971,0.09885142972205456,0.09888000889563876,0.09890780920741479,0.09893485188352738,0.09896115757165015,0.09898674635675048,0.0990116377764248,0.09903585083581597,0.09905940402212406,0.09908231531872175,0.09910460221888497,0.09912628173914942,0.09914737043230305,0.09916788440002443,0.09918783930517676,0.09920725038376678,0.09922613245657778,0.09924449994048562,0.09926236685946631,0.09927974685530357,0.09929665319800471,0.09931309879593249,0.099329096205661,0.09934465764156279,0.09935979498513493,0.09937451979407068,0.0993888433110841,0.09940277647249406,0.09941632991657444,0.09942951399167659,0.09944233876413056,0.09945481402593098,0.09946694930221348,0.09947875385852722,0.09949023670790952,0.09950140661776735,0.09951227211657152,0.09952284150036834,0.09953312283911384,0.09954312398283531,0.09955285256762504,0.0995623160214706,0.09957152156992627,0.0995804762416299,0.0995891868736695,0.09959766011680339,0.09960590244053831,0.09961392013806894,0.09962171933108298,0.0996293059744351,0.09963668586069369,0.09964386462456352,0.09965084774718809,0.09965764056033444,0.09966424825046419,0.0996706758626935,0.09967692830464508,0.0996830103501953,0.09968892664311918,0.09969468170063595,0.09970027991685805,0.09970572556614622,0.09971102280637295,0.09971617568209719,0.0997211881276524,0.09972606397015057,0.09973080693240424,0.09973542063576898,0.09973990860290836,0.0997442742604836,0.09974852094176988,0.09975265188920136,0.09975667025684692,0.09976057911281826,0.09976438144161251,0.099768080146391,0.09977167805119587,0.09977517790310621],\"yaxis\":\"y\",\"type\":\"scatter\"}],                        {\"template\":{\"data\":{\"bar\":[{\"error_x\":{\"color\":\"#2a3f5f\"},\"error_y\":{\"color\":\"#2a3f5f\"},\"marker\":{\"line\":{\"color\":\"#E5ECF6\",\"width\":0.5},\"pattern\":{\"fillmode\":\"overlay\",\"size\":10,\"solidity\":0.2}},\"type\":\"bar\"}],\"barpolar\":[{\"marker\":{\"line\":{\"color\":\"#E5ECF6\",\"width\":0.5},\"pattern\":{\"fillmode\":\"overlay\",\"size\":10,\"solidity\":0.2}},\"type\":\"barpolar\"}],\"carpet\":[{\"aaxis\":{\"endlinecolor\":\"#2a3f5f\",\"gridcolor\":\"white\",\"linecolor\":\"white\",\"minorgridcolor\":\"white\",\"startlinecolor\":\"#2a3f5f\"},\"baxis\":{\"endlinecolor\":\"#2a3f5f\",\"gridcolor\":\"white\",\"linecolor\":\"white\",\"minorgridcolor\":\"white\",\"startlinecolor\":\"#2a3f5f\"},\"type\":\"carpet\"}],\"choropleth\":[{\"colorbar\":{\"outlinewidth\":0,\"ticks\":\"\"},\"type\":\"choropleth\"}],\"contour\":[{\"colorbar\":{\"outlinewidth\":0,\"ticks\":\"\"},\"colorscale\":[[0.0,\"#0d0887\"],[0.1111111111111111,\"#46039f\"],[0.2222222222222222,\"#7201a8\"],[0.3333333333333333,\"#9c179e\"],[0.4444444444444444,\"#bd3786\"],[0.5555555555555556,\"#d8576b\"],[0.6666666666666666,\"#ed7953\"],[0.7777777777777778,\"#fb9f3a\"],[0.8888888888888888,\"#fdca26\"],[1.0,\"#f0f921\"]],\"type\":\"contour\"}],\"contourcarpet\":[{\"colorbar\":{\"outlinewidth\":0,\"ticks\":\"\"},\"type\":\"contourcarpet\"}],\"heatmap\":[{\"colorbar\":{\"outlinewidth\":0,\"ticks\":\"\"},\"colorscale\":[[0.0,\"#0d0887\"],[0.1111111111111111,\"#46039f\"],[0.2222222222222222,\"#7201a8\"],[0.3333333333333333,\"#9c179e\"],[0.4444444444444444,\"#bd3786\"],[0.5555555555555556,\"#d8576b\"],[0.6666666666666666,\"#ed7953\"],[0.7777777777777778,\"#fb9f3a\"],[0.8888888888888888,\"#fdca26\"],[1.0,\"#f0f921\"]],\"type\":\"heatmap\"}],\"heatmapgl\":[{\"colorbar\":{\"outlinewidth\":0,\"ticks\":\"\"},\"colorscale\":[[0.0,\"#0d0887\"],[0.1111111111111111,\"#46039f\"],[0.2222222222222222,\"#7201a8\"],[0.3333333333333333,\"#9c179e\"],[0.4444444444444444,\"#bd3786\"],[0.5555555555555556,\"#d8576b\"],[0.6666666666666666,\"#ed7953\"],[0.7777777777777778,\"#fb9f3a\"],[0.8888888888888888,\"#fdca26\"],[1.0,\"#f0f921\"]],\"type\":\"heatmapgl\"}],\"histogram\":[{\"marker\":{\"pattern\":{\"fillmode\":\"overlay\",\"size\":10,\"solidity\":0.2}},\"type\":\"histogram\"}],\"histogram2d\":[{\"colorbar\":{\"outlinewidth\":0,\"ticks\":\"\"},\"colorscale\":[[0.0,\"#0d0887\"],[0.1111111111111111,\"#46039f\"],[0.2222222222222222,\"#7201a8\"],[0.3333333333333333,\"#9c179e\"],[0.4444444444444444,\"#bd3786\"],[0.5555555555555556,\"#d8576b\"],[0.6666666666666666,\"#ed7953\"],[0.7777777777777778,\"#fb9f3a\"],[0.8888888888888888,\"#fdca26\"],[1.0,\"#f0f921\"]],\"type\":\"histogram2d\"}],\"histogram2dcontour\":[{\"colorbar\":{\"outlinewidth\":0,\"ticks\":\"\"},\"colorscale\":[[0.0,\"#0d0887\"],[0.1111111111111111,\"#46039f\"],[0.2222222222222222,\"#7201a8\"],[0.3333333333333333,\"#9c179e\"],[0.4444444444444444,\"#bd3786\"],[0.5555555555555556,\"#d8576b\"],[0.6666666666666666,\"#ed7953\"],[0.7777777777777778,\"#fb9f3a\"],[0.8888888888888888,\"#fdca26\"],[1.0,\"#f0f921\"]],\"type\":\"histogram2dcontour\"}],\"mesh3d\":[{\"colorbar\":{\"outlinewidth\":0,\"ticks\":\"\"},\"type\":\"mesh3d\"}],\"parcoords\":[{\"line\":{\"colorbar\":{\"outlinewidth\":0,\"ticks\":\"\"}},\"type\":\"parcoords\"}],\"pie\":[{\"automargin\":true,\"type\":\"pie\"}],\"scatter\":[{\"marker\":{\"colorbar\":{\"outlinewidth\":0,\"ticks\":\"\"}},\"type\":\"scatter\"}],\"scatter3d\":[{\"line\":{\"colorbar\":{\"outlinewidth\":0,\"ticks\":\"\"}},\"marker\":{\"colorbar\":{\"outlinewidth\":0,\"ticks\":\"\"}},\"type\":\"scatter3d\"}],\"scattercarpet\":[{\"marker\":{\"colorbar\":{\"outlinewidth\":0,\"ticks\":\"\"}},\"type\":\"scattercarpet\"}],\"scattergeo\":[{\"marker\":{\"colorbar\":{\"outlinewidth\":0,\"ticks\":\"\"}},\"type\":\"scattergeo\"}],\"scattergl\":[{\"marker\":{\"colorbar\":{\"outlinewidth\":0,\"ticks\":\"\"}},\"type\":\"scattergl\"}],\"scattermapbox\":[{\"marker\":{\"colorbar\":{\"outlinewidth\":0,\"ticks\":\"\"}},\"type\":\"scattermapbox\"}],\"scatterpolar\":[{\"marker\":{\"colorbar\":{\"outlinewidth\":0,\"ticks\":\"\"}},\"type\":\"scatterpolar\"}],\"scatterpolargl\":[{\"marker\":{\"colorbar\":{\"outlinewidth\":0,\"ticks\":\"\"}},\"type\":\"scatterpolargl\"}],\"scatterternary\":[{\"marker\":{\"colorbar\":{\"outlinewidth\":0,\"ticks\":\"\"}},\"type\":\"scatterternary\"}],\"surface\":[{\"colorbar\":{\"outlinewidth\":0,\"ticks\":\"\"},\"colorscale\":[[0.0,\"#0d0887\"],[0.1111111111111111,\"#46039f\"],[0.2222222222222222,\"#7201a8\"],[0.3333333333333333,\"#9c179e\"],[0.4444444444444444,\"#bd3786\"],[0.5555555555555556,\"#d8576b\"],[0.6666666666666666,\"#ed7953\"],[0.7777777777777778,\"#fb9f3a\"],[0.8888888888888888,\"#fdca26\"],[1.0,\"#f0f921\"]],\"type\":\"surface\"}],\"table\":[{\"cells\":{\"fill\":{\"color\":\"#EBF0F8\"},\"line\":{\"color\":\"white\"}},\"header\":{\"fill\":{\"color\":\"#C8D4E3\"},\"line\":{\"color\":\"white\"}},\"type\":\"table\"}]},\"layout\":{\"annotationdefaults\":{\"arrowcolor\":\"#2a3f5f\",\"arrowhead\":0,\"arrowwidth\":1},\"autotypenumbers\":\"strict\",\"coloraxis\":{\"colorbar\":{\"outlinewidth\":0,\"ticks\":\"\"}},\"colorscale\":{\"diverging\":[[0,\"#8e0152\"],[0.1,\"#c51b7d\"],[0.2,\"#de77ae\"],[0.3,\"#f1b6da\"],[0.4,\"#fde0ef\"],[0.5,\"#f7f7f7\"],[0.6,\"#e6f5d0\"],[0.7,\"#b8e186\"],[0.8,\"#7fbc41\"],[0.9,\"#4d9221\"],[1,\"#276419\"]],\"sequential\":[[0.0,\"#0d0887\"],[0.1111111111111111,\"#46039f\"],[0.2222222222222222,\"#7201a8\"],[0.3333333333333333,\"#9c179e\"],[0.4444444444444444,\"#bd3786\"],[0.5555555555555556,\"#d8576b\"],[0.6666666666666666,\"#ed7953\"],[0.7777777777777778,\"#fb9f3a\"],[0.8888888888888888,\"#fdca26\"],[1.0,\"#f0f921\"]],\"sequentialminus\":[[0.0,\"#0d0887\"],[0.1111111111111111,\"#46039f\"],[0.2222222222222222,\"#7201a8\"],[0.3333333333333333,\"#9c179e\"],[0.4444444444444444,\"#bd3786\"],[0.5555555555555556,\"#d8576b\"],[0.6666666666666666,\"#ed7953\"],[0.7777777777777778,\"#fb9f3a\"],[0.8888888888888888,\"#fdca26\"],[1.0,\"#f0f921\"]]},\"colorway\":[\"#636efa\",\"#EF553B\",\"#00cc96\",\"#ab63fa\",\"#FFA15A\",\"#19d3f3\",\"#FF6692\",\"#B6E880\",\"#FF97FF\",\"#FECB52\"],\"font\":{\"color\":\"#2a3f5f\"},\"geo\":{\"bgcolor\":\"white\",\"lakecolor\":\"white\",\"landcolor\":\"#E5ECF6\",\"showlakes\":true,\"showland\":true,\"subunitcolor\":\"white\"},\"hoverlabel\":{\"align\":\"left\"},\"hovermode\":\"closest\",\"mapbox\":{\"style\":\"light\"},\"paper_bgcolor\":\"white\",\"plot_bgcolor\":\"#E5ECF6\",\"polar\":{\"angularaxis\":{\"gridcolor\":\"white\",\"linecolor\":\"white\",\"ticks\":\"\"},\"bgcolor\":\"#E5ECF6\",\"radialaxis\":{\"gridcolor\":\"white\",\"linecolor\":\"white\",\"ticks\":\"\"}},\"scene\":{\"xaxis\":{\"backgroundcolor\":\"#E5ECF6\",\"gridcolor\":\"white\",\"gridwidth\":2,\"linecolor\":\"white\",\"showbackground\":true,\"ticks\":\"\",\"zerolinecolor\":\"white\"},\"yaxis\":{\"backgroundcolor\":\"#E5ECF6\",\"gridcolor\":\"white\",\"gridwidth\":2,\"linecolor\":\"white\",\"showbackground\":true,\"ticks\":\"\",\"zerolinecolor\":\"white\"},\"zaxis\":{\"backgroundcolor\":\"#E5ECF6\",\"gridcolor\":\"white\",\"gridwidth\":2,\"linecolor\":\"white\",\"showbackground\":true,\"ticks\":\"\",\"zerolinecolor\":\"white\"}},\"shapedefaults\":{\"line\":{\"color\":\"#2a3f5f\"}},\"ternary\":{\"aaxis\":{\"gridcolor\":\"white\",\"linecolor\":\"white\",\"ticks\":\"\"},\"baxis\":{\"gridcolor\":\"white\",\"linecolor\":\"white\",\"ticks\":\"\"},\"bgcolor\":\"#E5ECF6\",\"caxis\":{\"gridcolor\":\"white\",\"linecolor\":\"white\",\"ticks\":\"\"}},\"title\":{\"x\":0.05},\"xaxis\":{\"automargin\":true,\"gridcolor\":\"white\",\"linecolor\":\"white\",\"ticks\":\"\",\"title\":{\"standoff\":15},\"zerolinecolor\":\"white\",\"zerolinewidth\":2},\"yaxis\":{\"automargin\":true,\"gridcolor\":\"white\",\"linecolor\":\"white\",\"ticks\":\"\",\"title\":{\"standoff\":15},\"zerolinecolor\":\"white\",\"zerolinewidth\":2}}},\"xaxis\":{\"anchor\":\"y\",\"domain\":[0.0,1.0],\"title\":{\"text\":\"Tempo [s]\"}},\"yaxis\":{\"anchor\":\"x\",\"domain\":[0.0,1.0],\"title\":{\"text\":\"Velocidade Angular [rad/s]\"}},\"legend\":{\"tracegroupgap\":0},\"title\":{\"text\":\"Resposta ao Degrau do Motor CC\"}},                        {\"responsive\": true}                    ).then(function(){\n",
              "                            \n",
              "var gd = document.getElementById('9c6da747-02e1-45e6-91f4-144dd2a8ef70');\n",
              "var x = new MutationObserver(function (mutations, observer) {{\n",
              "        var display = window.getComputedStyle(gd).display;\n",
              "        if (!display || display === 'none') {{\n",
              "            console.log([gd, 'removed!']);\n",
              "            Plotly.purge(gd);\n",
              "            observer.disconnect();\n",
              "        }}\n",
              "}});\n",
              "\n",
              "// Listen for the removal of the full notebook cells\n",
              "var notebookContainer = gd.closest('#notebook-container');\n",
              "if (notebookContainer) {{\n",
              "    x.observe(notebookContainer, {childList: true});\n",
              "}}\n",
              "\n",
              "// Listen for the clearing of the current output cell\n",
              "var outputEl = gd.closest('.output');\n",
              "if (outputEl) {{\n",
              "    x.observe(outputEl, {childList: true});\n",
              "}}\n",
              "\n",
              "                        })                };                            </script>        </div>\n",
              "</body>\n",
              "</html>"
            ]
          },
          "metadata": {}
        }
      ]
    },
    {
      "cell_type": "markdown",
      "source": [
        "## Plot dos resultados utilizando o módulo matplotlib.pyplot"
      ],
      "metadata": {
        "id": "Q-CwyJ891BO1"
      }
    },
    {
      "cell_type": "code",
      "source": [
        "fig,ax = plt.subplots()\n",
        "ax.plot(t,y)\n",
        "fig.suptitle('Resposta ao Degrau')"
      ],
      "metadata": {
        "colab": {
          "base_uri": "https://localhost:8080/",
          "height": 312
        },
        "id": "sRDlHFeRfoAT",
        "outputId": "950902de-a514-499a-d41f-3f3cc9b9cf33"
      },
      "execution_count": null,
      "outputs": [
        {
          "output_type": "execute_result",
          "data": {
            "text/plain": [
              "Text(0.5, 0.98, 'Resposta ao Degrau')"
            ]
          },
          "metadata": {},
          "execution_count": 15
        },
        {
          "output_type": "display_data",
          "data": {
            "image/png": "[encoded data removed]",
            "text/plain": [
              "<Figure size 432x288 with 1 Axes>"
            ]
          },
          "metadata": {
            "needs_background": "light"
          }
        }
      ]
    },
    {
      "cell_type": "markdown",
      "source": [
        "# Modelagem do Controlador PID"
      ],
      "metadata": {
        "id": "4CO6nH8D1Q0m"
      }
    },
    {
      "cell_type": "code",
      "source": [
        "## Controlador\n",
        "Kp = 1\n",
        "Ki = 0\n",
        "Kd = 0\n",
        "\n",
        "K = Kp+1/s*Ki+s*Kd\n",
        "K"
      ],
      "metadata": {
        "colab": {
          "base_uri": "https://localhost:8080/",
          "height": 38
        },
        "id": "UkkYFNiafq3z",
        "outputId": "002c3306-f68f-4fc0-8fa8-92c016ba8003"
      },
      "execution_count": null,
      "outputs": [
        {
          "output_type": "execute_result",
          "data": {
            "text/latex": "$$\\frac{1}{1}$$",
            "text/plain": [
              "TransferFunction(array([1.]), array([1.]))"
            ]
          },
          "metadata": {},
          "execution_count": 105
        }
      ]
    },
    {
      "cell_type": "markdown",
      "source": [
        "# Sistema em Malha Fechada"
      ],
      "metadata": {
        "id": "e5fvyZj913P8"
      }
    },
    {
      "cell_type": "code",
      "source": [
        "T = control.feedback(K*G,1)\n",
        "T"
      ],
      "metadata": {
        "colab": {
          "base_uri": "https://localhost:8080/",
          "height": 39
        },
        "id": "zvYUV4ywgFIi",
        "outputId": "4f45ed78-7ee0-46a9-c631-d0fd6eb0ab64"
      },
      "execution_count": null,
      "outputs": [
        {
          "output_type": "execute_result",
          "data": {
            "text/latex": "$$\\frac{0.01}{0.005 s^2 + 0.06 s + 0.1101}$$",
            "text/plain": [
              "TransferFunction(array([0.01]), array([0.005 , 0.06  , 0.1101]))"
            ]
          },
          "metadata": {},
          "execution_count": 106
        }
      ]
    },
    {
      "cell_type": "markdown",
      "source": [
        "## Resposta ao Degrau do Sistema em Malha Fechada"
      ],
      "metadata": {
        "id": "zG2Ibm_J2Aa_"
      }
    },
    {
      "cell_type": "code",
      "source": [
        "t2,y2 = control.step_response(T)\n",
        "\n",
        "px.line(x=t2,y=y2,title = 'Resposta ao Degrau - Malha Fechada')"
      ],
      "metadata": {
        "colab": {
          "base_uri": "https://localhost:8080/",
          "height": 542
        },
        "id": "xPYPqyvY1_Ro",
        "outputId": "dfe4203b-e47a-4054-e8c2-410d3ffac00b"
      },
      "execution_count": null,
      "outputs": [
        {
          "output_type": "display_data",
          "data": {
            "text/html": [
              "<html>\n",
              "<head><meta charset=\"utf-8\" /></head>\n",
              "<body>\n",
              "    <div>            <script src=\"https://cdnjs.cloudflare.com/ajax/libs/mathjax/2.7.5/MathJax.js?config=TeX-AMS-MML_SVG\"></script><script type=\"text/javascript\">if (window.MathJax) {MathJax.Hub.Config({SVG: {font: \"STIX-Web\"}});}</script>                <script type=\"text/javascript\">window.PlotlyConfig = {MathJaxConfig: 'local'};</script>\n",
              "        <script src=\"https://cdn.plot.ly/plotly-2.8.3.min.js\"></script>                <div id=\"11539905-e619-4d11-b9f6-3780b7ad4e8f\" class=\"plotly-graph-div\" style=\"height:525px; width:100%;\"></div>            <script type=\"text/javascript\">                                    window.PLOTLYENV=window.PLOTLYENV || {};                                    if (document.getElementById(\"11539905-e619-4d11-b9f6-3780b7ad4e8f\")) {                    Plotly.newPlot(                        \"11539905-e619-4d11-b9f6-3780b7ad4e8f\",                        [{\"hovertemplate\":\"x=%{x}<br>y=%{y}<extra></extra>\",\"legendgroup\":\"\",\"line\":{\"color\":\"#636efa\",\"dash\":\"solid\"},\"marker\":{\"symbol\":\"circle\"},\"mode\":\"lines\",\"name\":\"\",\"orientation\":\"v\",\"showlegend\":false,\"x\":[0.0,0.014144236907688979,0.028288473815377958,0.04243271072306694,0.056576947630755915,0.07072118453844489,0.08486542144613388,0.09900965835382285,0.11315389526151183,0.1272981321692008,0.14144236907688978,0.15558660598457877,0.16973084289226775,0.18387507979995674,0.1980193167076457,0.21216355361533468,0.22630779052302366,0.24045202743071264,0.2545962643384016,0.2687405012460906,0.28288473815377957,0.2970289750614686,0.31117321196915754,0.3253174488768465,0.3394616857845355,0.35360592269222446,0.3677501595999135,0.38189439650760243,0.3960386334152914,0.4101828703229804,0.42432710723066935,0.43847134413835837,0.4526155810460473,0.4667598179537363,0.4809040548614253,0.49504829176911425,0.5091925286768032,0.5233367655844923,0.5374810024921812,0.5516252393998702,0.5657694763075591,0.5799137132152481,0.5940579501229372,0.6082021870306261,0.6223464239383151,0.636490660846004,0.650634897753693,0.664779134661382,0.678923371569071,0.69306760847676,0.7072118453844489,0.7213560822921379,0.735500319199827,0.7496445561075159,0.7637887930152049,0.7779330299228938,0.7920772668305828,0.8062215037382718,0.8203657406459608,0.8345099775536498,0.8486542144613387,0.8627984513690277,0.8769426882767167,0.8910869251844057,0.9052311620920946,0.9193753989997836,0.9335196359074726,0.9476638728151616,0.9618081097228506,0.9759523466305395,0.9900965835382285,1.0042408204459174,1.0183850573536064,1.0325292942612954,1.0466735311689845,1.0608177680766735,1.0749620049843625,1.0891062418920514,1.1032504787997404,1.1173947157074293,1.1315389526151183,1.1456831895228072,1.1598274264304962,1.1739716633381851,1.1881159002458743,1.2022601371535633,1.2164043740612522,1.2305486109689412,1.2446928478766301,1.258837084784319,1.272981321692008,1.287125558599697,1.301269795507386,1.315414032415075,1.329558269322764,1.343702506230453,1.357846743138142,1.371990980045831,1.38613521695352,1.400279453861209,1.4144236907688978,1.4285679276765868,1.4427121645842758,1.4568564014919647,1.471000638399654,1.4851448753073428,1.4992891122150318,1.5134333491227208,1.5275775860304097,1.5417218229380987,1.5558660598457876,1.5700102967534766,1.5841545336611655,1.5982987705688545,1.6124430074765437,1.6265872443842326,1.6407314812919216,1.6548757181996105,1.6690199551072995,1.6831641920149885,1.6973084289226774,1.7114526658303664,1.7255969027380553,1.7397411396457443,1.7538853765534335,1.7680296134611224,1.7821738503688114,1.7963180872765003,1.8104623241841893,1.8246065610918782,1.8387507979995672,1.8528950349072562,1.8670392718149451,1.8811835087226343,1.8953277456303232,1.9094719825380122,1.9236162194457012,1.9377604563533901,1.951904693261079,1.966048930168768,1.980193167076457,1.994337403984146,2.008481640891835,2.022625877799524,2.036770114707213,2.0509143516149018,2.0650585885225907,2.0792028254302797,2.093347062337969,2.107491299245658,2.121635536153347,2.135779773061036,2.149924009968725,2.164068246876414,2.178212483784103,2.1923567206917918,2.2065009575994807,2.2206451945071697,2.2347894314148586,2.2489336683225476,2.2630779052302366,2.2772221421379255,2.2913663790456145,2.3055106159533034,2.3196548528609924,2.3337990897686813,2.3479433266763703,2.3620875635840592,2.3762318004917486,2.3903760373994376,2.4045202743071266,2.4186645112148155,2.4328087481225045,2.4469529850301934,2.4610972219378824,2.4752414588455713,2.4893856957532603,2.5035299326609493,2.517674169568638,2.531818406476327,2.545962643384016,2.560106880291705,2.574251117199394,2.588395354107083,2.602539591014772,2.616683827922461,2.63082806483015,2.644972301737839,2.659116538645528,2.673260775553217,2.687405012460906,2.701549249368595,2.715693486276284,2.729837723183973,2.743981960091662,2.758126196999351,2.77227043390704,2.786414670814729,2.800558907722418,2.8147031446301067,2.8288473815377957,2.8429916184454846,2.8571358553531736,2.8712800922608626,2.8854243291685515,2.8995685660762405,2.9137128029839294,2.927857039891619,2.942001276799308,2.9561455137069967,2.9702897506146857,2.9844339875223747,2.9985782244300636,3.0127224613377526,3.0268666982454415,3.0410109351531305,3.0551551720608194],\"xaxis\":\"x\",\"y\":[0.0,0.00018913646486815917,0.0007158510689348871,0.0015253118142450387,0.0025701012285269786,0.003809250950377765,0.00520740090299903,0.006734067012759537,0.00836300349378181,0.01007164751893835,0.011840635665293756,0.01365338288793799,0.015495715966284353,0.017355554403873902,0.019222632666245677,0.021088258428672332,0.022945102191486978,0.024787014218377073,0.026608865273754802,0.028406408089029108,0.030176156882926353,0.03191528260544939,0.03362152187517609,0.035293097841082935,0.036928651427908236,0.03852718162257403,0.04008799363213904,0.04161065389444635,0.04309495105392283,0.044540862129379695,0.04594852320032955,0.04731820402517086,0.048650286080246116,0.04994524357469498,0.05120362705345136,0.052426049250766174,0.053613172900227234,0.054765700245223814,0.055884364026887866,0.05696991975536698,0.05802313909539389,0.05904480421899189,0.060035702997211456,0.06099662491939307,0.061928357642911616,0.06283168408895348,0.063707380010849,0.06455621197103942,0.06537893567108112,0.06617629458633878,0.06694901886333325,0.0676978244432073,0.06842341237956082,0.06912646832307567,0.06980766214898046,0.07046764770656536,0.07110706267270898,0.07172652849377298,0.07232665040230501,0.07290801749680431,0.07347120287438193,0.07401676380752138,0.07454524195733911,0.07505716361678318,0.07555303997811164,0.0760333674197768,0.07649862780852422,0.07694928881310754,0.0773858042265354,0.07780861429421305,0.07821814604572971,0.07861481362837845,0.07899901864078755,0.07937115046529437,0.07973158659791209,0.08008069297492845,0.08041882429533966,0.08074632433846342,0.08106352627619756,0.08137075297949516,0.08166831731871779,0.0819565224576062,0.08223566214067382,0.0825060209738862,0.08276787469853743,0.08302149045827634,0.0832671270592704,0.08350503522352475,0.08373545783539894,0.08395863018138494,0.08417478018322691,0.08438412862447833,0.0845868893706031,0.084783269582737,0.08497346992523358,0.08515768476712392,0.08533610237762457,0.08550890511583088,0.08567626961473512,0.08583836695971002,0.08599536286159878,0.0861474178245526,0.08629468730875572,0.08643732188817715,0.08657546740348644,0.08670926511026902,0.08683885182267484,0.08696436005263099,0.08708591814474739,0.08720365040704112,0.08731767723760286,0.08742811524732591,0.08753507737881527,0.08763867302159152,0.08773900812370128,0.08783618529984329,0.08793030393611596,0.08802146029148963,0.08810974759610381,0.08819525614648695,0.08827807339779356,0.08835828405315051,0.08843597015020213,0.08851121114494082,0.08858408399290721,0.08865466322784195,0.08872302103786807,0.08878922733928107,0.08885334984802121,0.08891545414890037,0.08897560376265369,0.0890338602108839,0.08909028307896429,0.08914493007696417,0.08919785709865899,0.08924911827868476,0.08929876604789527,0.08934685118697827,0.08939342287838535,0.08943852875662843,0.089482214956994,0.08952452616272505,0.08956550565071851,0.08960519533578509,0.08964363581351661,0.08968086640180443,0.08971692518105169,0.08975184903312008,0.08978567367905123,0.08981843371560093,0.08985016265062387,0.08988089293734475,0.08991065600755094,0.08993948230374056,0.08996740131025888,0.08999444158345477,0.09002063078088818,0.09004599568961838,0.0900705622536019,0.0900943556002282,0.09011740006602029,0.09013971922152633,0.09016133589542805,0.09018227219789014,0.09020254954317504,0.09022218867154573,0.09024120967047931,0.09025963199521296,0.09027747448864304,0.09029475540059814,0.09031149240650539,0.09032770262546927,0.09034340263778148,0.09035860850187971,0.09037333577077256,0.09038759950794757,0.09040141430277858,0.0904147942854481,0.09042775314140007,0.0904403041253377,0.0904524600747807,0.0904642334231959,0.09047563621271455,0.09048668010644932,0.09049737640042368,0.09050773603512581,0.09051776960669877,0.09052748737777866,0.09053689928799144,0.09054601496411951,0.09055484372994826,0.0905633946158027,0.09057167636778396,0.090579697456715,0.0905874660868049,0.09059499020404033,0.09060227750431289,0.0906093354412908,0.0906161712340426,0.09062279187442115,0.09062920413421506,0.09063541457207501,0.09064142954022225,0.09064725519094574,0.09065289748289496,0.09065836218717453,0.09066365489324715,0.0906687810146506,0.0906737457945349,0.0906785543110251,0.09068321148241547,0.09068772207219995,0.09069209069394443,0.09069632181600568,0.09070041976610167,0.09070438873573812,0.09070823278449568],\"yaxis\":\"y\",\"type\":\"scatter\"}],                        {\"template\":{\"data\":{\"bar\":[{\"error_x\":{\"color\":\"#2a3f5f\"},\"error_y\":{\"color\":\"#2a3f5f\"},\"marker\":{\"line\":{\"color\":\"#E5ECF6\",\"width\":0.5},\"pattern\":{\"fillmode\":\"overlay\",\"size\":10,\"solidity\":0.2}},\"type\":\"bar\"}],\"barpolar\":[{\"marker\":{\"line\":{\"color\":\"#E5ECF6\",\"width\":0.5},\"pattern\":{\"fillmode\":\"overlay\",\"size\":10,\"solidity\":0.2}},\"type\":\"barpolar\"}],\"carpet\":[{\"aaxis\":{\"endlinecolor\":\"#2a3f5f\",\"gridcolor\":\"white\",\"linecolor\":\"white\",\"minorgridcolor\":\"white\",\"startlinecolor\":\"#2a3f5f\"},\"baxis\":{\"endlinecolor\":\"#2a3f5f\",\"gridcolor\":\"white\",\"linecolor\":\"white\",\"minorgridcolor\":\"white\",\"startlinecolor\":\"#2a3f5f\"},\"type\":\"carpet\"}],\"choropleth\":[{\"colorbar\":{\"outlinewidth\":0,\"ticks\":\"\"},\"type\":\"choropleth\"}],\"contour\":[{\"colorbar\":{\"outlinewidth\":0,\"ticks\":\"\"},\"colorscale\":[[0.0,\"#0d0887\"],[0.1111111111111111,\"#46039f\"],[0.2222222222222222,\"#7201a8\"],[0.3333333333333333,\"#9c179e\"],[0.4444444444444444,\"#bd3786\"],[0.5555555555555556,\"#d8576b\"],[0.6666666666666666,\"#ed7953\"],[0.7777777777777778,\"#fb9f3a\"],[0.8888888888888888,\"#fdca26\"],[1.0,\"#f0f921\"]],\"type\":\"contour\"}],\"contourcarpet\":[{\"colorbar\":{\"outlinewidth\":0,\"ticks\":\"\"},\"type\":\"contourcarpet\"}],\"heatmap\":[{\"colorbar\":{\"outlinewidth\":0,\"ticks\":\"\"},\"colorscale\":[[0.0,\"#0d0887\"],[0.1111111111111111,\"#46039f\"],[0.2222222222222222,\"#7201a8\"],[0.3333333333333333,\"#9c179e\"],[0.4444444444444444,\"#bd3786\"],[0.5555555555555556,\"#d8576b\"],[0.6666666666666666,\"#ed7953\"],[0.7777777777777778,\"#fb9f3a\"],[0.8888888888888888,\"#fdca26\"],[1.0,\"#f0f921\"]],\"type\":\"heatmap\"}],\"heatmapgl\":[{\"colorbar\":{\"outlinewidth\":0,\"ticks\":\"\"},\"colorscale\":[[0.0,\"#0d0887\"],[0.1111111111111111,\"#46039f\"],[0.2222222222222222,\"#7201a8\"],[0.3333333333333333,\"#9c179e\"],[0.4444444444444444,\"#bd3786\"],[0.5555555555555556,\"#d8576b\"],[0.6666666666666666,\"#ed7953\"],[0.7777777777777778,\"#fb9f3a\"],[0.8888888888888888,\"#fdca26\"],[1.0,\"#f0f921\"]],\"type\":\"heatmapgl\"}],\"histogram\":[{\"marker\":{\"pattern\":{\"fillmode\":\"overlay\",\"size\":10,\"solidity\":0.2}},\"type\":\"histogram\"}],\"histogram2d\":[{\"colorbar\":{\"outlinewidth\":0,\"ticks\":\"\"},\"colorscale\":[[0.0,\"#0d0887\"],[0.1111111111111111,\"#46039f\"],[0.2222222222222222,\"#7201a8\"],[0.3333333333333333,\"#9c179e\"],[0.4444444444444444,\"#bd3786\"],[0.5555555555555556,\"#d8576b\"],[0.6666666666666666,\"#ed7953\"],[0.7777777777777778,\"#fb9f3a\"],[0.8888888888888888,\"#fdca26\"],[1.0,\"#f0f921\"]],\"type\":\"histogram2d\"}],\"histogram2dcontour\":[{\"colorbar\":{\"outlinewidth\":0,\"ticks\":\"\"},\"colorscale\":[[0.0,\"#0d0887\"],[0.1111111111111111,\"#46039f\"],[0.2222222222222222,\"#7201a8\"],[0.3333333333333333,\"#9c179e\"],[0.4444444444444444,\"#bd3786\"],[0.5555555555555556,\"#d8576b\"],[0.6666666666666666,\"#ed7953\"],[0.7777777777777778,\"#fb9f3a\"],[0.8888888888888888,\"#fdca26\"],[1.0,\"#f0f921\"]],\"type\":\"histogram2dcontour\"}],\"mesh3d\":[{\"colorbar\":{\"outlinewidth\":0,\"ticks\":\"\"},\"type\":\"mesh3d\"}],\"parcoords\":[{\"line\":{\"colorbar\":{\"outlinewidth\":0,\"ticks\":\"\"}},\"type\":\"parcoords\"}],\"pie\":[{\"automargin\":true,\"type\":\"pie\"}],\"scatter\":[{\"marker\":{\"colorbar\":{\"outlinewidth\":0,\"ticks\":\"\"}},\"type\":\"scatter\"}],\"scatter3d\":[{\"line\":{\"colorbar\":{\"outlinewidth\":0,\"ticks\":\"\"}},\"marker\":{\"colorbar\":{\"outlinewidth\":0,\"ticks\":\"\"}},\"type\":\"scatter3d\"}],\"scattercarpet\":[{\"marker\":{\"colorbar\":{\"outlinewidth\":0,\"ticks\":\"\"}},\"type\":\"scattercarpet\"}],\"scattergeo\":[{\"marker\":{\"colorbar\":{\"outlinewidth\":0,\"ticks\":\"\"}},\"type\":\"scattergeo\"}],\"scattergl\":[{\"marker\":{\"colorbar\":{\"outlinewidth\":0,\"ticks\":\"\"}},\"type\":\"scattergl\"}],\"scattermapbox\":[{\"marker\":{\"colorbar\":{\"outlinewidth\":0,\"ticks\":\"\"}},\"type\":\"scattermapbox\"}],\"scatterpolar\":[{\"marker\":{\"colorbar\":{\"outlinewidth\":0,\"ticks\":\"\"}},\"type\":\"scatterpolar\"}],\"scatterpolargl\":[{\"marker\":{\"colorbar\":{\"outlinewidth\":0,\"ticks\":\"\"}},\"type\":\"scatterpolargl\"}],\"scatterternary\":[{\"marker\":{\"colorbar\":{\"outlinewidth\":0,\"ticks\":\"\"}},\"type\":\"scatterternary\"}],\"surface\":[{\"colorbar\":{\"outlinewidth\":0,\"ticks\":\"\"},\"colorscale\":[[0.0,\"#0d0887\"],[0.1111111111111111,\"#46039f\"],[0.2222222222222222,\"#7201a8\"],[0.3333333333333333,\"#9c179e\"],[0.4444444444444444,\"#bd3786\"],[0.5555555555555556,\"#d8576b\"],[0.6666666666666666,\"#ed7953\"],[0.7777777777777778,\"#fb9f3a\"],[0.8888888888888888,\"#fdca26\"],[1.0,\"#f0f921\"]],\"type\":\"surface\"}],\"table\":[{\"cells\":{\"fill\":{\"color\":\"#EBF0F8\"},\"line\":{\"color\":\"white\"}},\"header\":{\"fill\":{\"color\":\"#C8D4E3\"},\"line\":{\"color\":\"white\"}},\"type\":\"table\"}]},\"layout\":{\"annotationdefaults\":{\"arrowcolor\":\"#2a3f5f\",\"arrowhead\":0,\"arrowwidth\":1},\"autotypenumbers\":\"strict\",\"coloraxis\":{\"colorbar\":{\"outlinewidth\":0,\"ticks\":\"\"}},\"colorscale\":{\"diverging\":[[0,\"#8e0152\"],[0.1,\"#c51b7d\"],[0.2,\"#de77ae\"],[0.3,\"#f1b6da\"],[0.4,\"#fde0ef\"],[0.5,\"#f7f7f7\"],[0.6,\"#e6f5d0\"],[0.7,\"#b8e186\"],[0.8,\"#7fbc41\"],[0.9,\"#4d9221\"],[1,\"#276419\"]],\"sequential\":[[0.0,\"#0d0887\"],[0.1111111111111111,\"#46039f\"],[0.2222222222222222,\"#7201a8\"],[0.3333333333333333,\"#9c179e\"],[0.4444444444444444,\"#bd3786\"],[0.5555555555555556,\"#d8576b\"],[0.6666666666666666,\"#ed7953\"],[0.7777777777777778,\"#fb9f3a\"],[0.8888888888888888,\"#fdca26\"],[1.0,\"#f0f921\"]],\"sequentialminus\":[[0.0,\"#0d0887\"],[0.1111111111111111,\"#46039f\"],[0.2222222222222222,\"#7201a8\"],[0.3333333333333333,\"#9c179e\"],[0.4444444444444444,\"#bd3786\"],[0.5555555555555556,\"#d8576b\"],[0.6666666666666666,\"#ed7953\"],[0.7777777777777778,\"#fb9f3a\"],[0.8888888888888888,\"#fdca26\"],[1.0,\"#f0f921\"]]},\"colorway\":[\"#636efa\",\"#EF553B\",\"#00cc96\",\"#ab63fa\",\"#FFA15A\",\"#19d3f3\",\"#FF6692\",\"#B6E880\",\"#FF97FF\",\"#FECB52\"],\"font\":{\"color\":\"#2a3f5f\"},\"geo\":{\"bgcolor\":\"white\",\"lakecolor\":\"white\",\"landcolor\":\"#E5ECF6\",\"showlakes\":true,\"showland\":true,\"subunitcolor\":\"white\"},\"hoverlabel\":{\"align\":\"left\"},\"hovermode\":\"closest\",\"mapbox\":{\"style\":\"light\"},\"paper_bgcolor\":\"white\",\"plot_bgcolor\":\"#E5ECF6\",\"polar\":{\"angularaxis\":{\"gridcolor\":\"white\",\"linecolor\":\"white\",\"ticks\":\"\"},\"bgcolor\":\"#E5ECF6\",\"radialaxis\":{\"gridcolor\":\"white\",\"linecolor\":\"white\",\"ticks\":\"\"}},\"scene\":{\"xaxis\":{\"backgroundcolor\":\"#E5ECF6\",\"gridcolor\":\"white\",\"gridwidth\":2,\"linecolor\":\"white\",\"showbackground\":true,\"ticks\":\"\",\"zerolinecolor\":\"white\"},\"yaxis\":{\"backgroundcolor\":\"#E5ECF6\",\"gridcolor\":\"white\",\"gridwidth\":2,\"linecolor\":\"white\",\"showbackground\":true,\"ticks\":\"\",\"zerolinecolor\":\"white\"},\"zaxis\":{\"backgroundcolor\":\"#E5ECF6\",\"gridcolor\":\"white\",\"gridwidth\":2,\"linecolor\":\"white\",\"showbackground\":true,\"ticks\":\"\",\"zerolinecolor\":\"white\"}},\"shapedefaults\":{\"line\":{\"color\":\"#2a3f5f\"}},\"ternary\":{\"aaxis\":{\"gridcolor\":\"white\",\"linecolor\":\"white\",\"ticks\":\"\"},\"baxis\":{\"gridcolor\":\"white\",\"linecolor\":\"white\",\"ticks\":\"\"},\"bgcolor\":\"#E5ECF6\",\"caxis\":{\"gridcolor\":\"white\",\"linecolor\":\"white\",\"ticks\":\"\"}},\"title\":{\"x\":0.05},\"xaxis\":{\"automargin\":true,\"gridcolor\":\"white\",\"linecolor\":\"white\",\"ticks\":\"\",\"title\":{\"standoff\":15},\"zerolinecolor\":\"white\",\"zerolinewidth\":2},\"yaxis\":{\"automargin\":true,\"gridcolor\":\"white\",\"linecolor\":\"white\",\"ticks\":\"\",\"title\":{\"standoff\":15},\"zerolinecolor\":\"white\",\"zerolinewidth\":2}}},\"xaxis\":{\"anchor\":\"y\",\"domain\":[0.0,1.0],\"title\":{\"text\":\"x\"}},\"yaxis\":{\"anchor\":\"x\",\"domain\":[0.0,1.0],\"title\":{\"text\":\"y\"}},\"legend\":{\"tracegroupgap\":0},\"title\":{\"text\":\"Resposta ao Degrau - Malha Fechada\"}},                        {\"responsive\": true}                    ).then(function(){\n",
              "                            \n",
              "var gd = document.getElementById('11539905-e619-4d11-b9f6-3780b7ad4e8f');\n",
              "var x = new MutationObserver(function (mutations, observer) {{\n",
              "        var display = window.getComputedStyle(gd).display;\n",
              "        if (!display || display === 'none') {{\n",
              "            console.log([gd, 'removed!']);\n",
              "            Plotly.purge(gd);\n",
              "            observer.disconnect();\n",
              "        }}\n",
              "}});\n",
              "\n",
              "// Listen for the removal of the full notebook cells\n",
              "var notebookContainer = gd.closest('#notebook-container');\n",
              "if (notebookContainer) {{\n",
              "    x.observe(notebookContainer, {childList: true});\n",
              "}}\n",
              "\n",
              "// Listen for the clearing of the current output cell\n",
              "var outputEl = gd.closest('.output');\n",
              "if (outputEl) {{\n",
              "    x.observe(outputEl, {childList: true});\n",
              "}}\n",
              "\n",
              "                        })                };                            </script>        </div>\n",
              "</body>\n",
              "</html>"
            ]
          },
          "metadata": {}
        }
      ]
    }
  ]
}