{
  "nbformat": 4,
  "nbformat_minor": 0,
  "metadata": {
    "colab": {
      "name": "Hello_Python.ipynb",
      "provenance": [],
      "collapsed_sections": [],
      "authorship_tag": "ABX9TyNH51MdbFrH+2rHoQcPyiJq",
      "include_colab_link": true
    },
    "kernelspec": {
      "name": "python3",
      "display_name": "Python 3"
    },
    "language_info": {
      "name": "python"
    }
  },
  "cells": [
    {
      "cell_type": "markdown",
      "metadata": {
        "id": "view-in-github",
        "colab_type": "text"
      },
      "source": [
        "<a href=\"https://colab.research.google.com/github/inocentejr/CODE7_IFSP_SLT/blob/main/Hello_Python.ipynb\" target=\"_parent\"><img src=\"https://colab.research.google.com/assets/colab-badge.svg\" alt=\"Open In Colab\"/></a>"
      ]
    },
    {
      "cell_type": "markdown",
      "source": [
        "# Hello Python!\n",
        "\n",
        "Usando o Python para o Controle"
      ],
      "metadata": {
        "id": "nYitVXYkwFqS"
      }
    },
    {
      "cell_type": "markdown",
      "source": [
        "## Parte 1: Importando alguns módulos\n",
        "\n",
        "Importaremos alguns módulos necessários:\n",
        "\n",
        "- control (controle)\n",
        "- plotly (gráficos)\n",
        "- numpy (numéricos)\n",
        "\n",
        "Como o módulo control não é ativo do colab, ele deverá ser instalado na execução do código. Se estiver rodando localmente, com o módulo instalado, não precisa executar a célula abaixo.\n",
        "\n"
      ],
      "metadata": {
        "id": "Hqlp9oSOwXWV"
      }
    },
    {
      "cell_type": "code",
      "source": [
        "pip install control"
      ],
      "metadata": {
        "colab": {
          "base_uri": "https://localhost:8080/"
        },
        "id": "u66Pwk0mxFiY",
        "outputId": "6a2a8dac-7f52-499c-8d19-b2e16b7dac9b"
      },
      "execution_count": 3,
      "outputs": [
        {
          "output_type": "stream",
          "name": "stdout",
          "text": [
            "Collecting control\n",
            "  Downloading control-0.9.1.tar.gz (357 kB)\n",
            "\u001b[?25l\r\u001b[K     |█                               | 10 kB 17.2 MB/s eta 0:00:01\r\u001b[K     |█▉                              | 20 kB 24.0 MB/s eta 0:00:01\r\u001b[K     |██▊                             | 30 kB 15.2 MB/s eta 0:00:01\r\u001b[K     |███▋                            | 40 kB 10.5 MB/s eta 0:00:01\r\u001b[K     |████▋                           | 51 kB 7.5 MB/s eta 0:00:01\r\u001b[K     |█████▌                          | 61 kB 7.8 MB/s eta 0:00:01\r\u001b[K     |██████▍                         | 71 kB 7.1 MB/s eta 0:00:01\r\u001b[K     |███████▎                        | 81 kB 7.8 MB/s eta 0:00:01\r\u001b[K     |████████▎                       | 92 kB 6.4 MB/s eta 0:00:01\r\u001b[K     |█████████▏                      | 102 kB 6.9 MB/s eta 0:00:01\r\u001b[K     |██████████                      | 112 kB 6.9 MB/s eta 0:00:01\r\u001b[K     |███████████                     | 122 kB 6.9 MB/s eta 0:00:01\r\u001b[K     |████████████                    | 133 kB 6.9 MB/s eta 0:00:01\r\u001b[K     |████████████▉                   | 143 kB 6.9 MB/s eta 0:00:01\r\u001b[K     |█████████████▊                  | 153 kB 6.9 MB/s eta 0:00:01\r\u001b[K     |██████████████▋                 | 163 kB 6.9 MB/s eta 0:00:01\r\u001b[K     |███████████████▋                | 174 kB 6.9 MB/s eta 0:00:01\r\u001b[K     |████████████████▌               | 184 kB 6.9 MB/s eta 0:00:01\r\u001b[K     |█████████████████▍              | 194 kB 6.9 MB/s eta 0:00:01\r\u001b[K     |██████████████████▎             | 204 kB 6.9 MB/s eta 0:00:01\r\u001b[K     |███████████████████▎            | 215 kB 6.9 MB/s eta 0:00:01\r\u001b[K     |████████████████████▏           | 225 kB 6.9 MB/s eta 0:00:01\r\u001b[K     |█████████████████████           | 235 kB 6.9 MB/s eta 0:00:01\r\u001b[K     |██████████████████████          | 245 kB 6.9 MB/s eta 0:00:01\r\u001b[K     |███████████████████████         | 256 kB 6.9 MB/s eta 0:00:01\r\u001b[K     |███████████████████████▉        | 266 kB 6.9 MB/s eta 0:00:01\r\u001b[K     |████████████████████████▊       | 276 kB 6.9 MB/s eta 0:00:01\r\u001b[K     |█████████████████████████▋      | 286 kB 6.9 MB/s eta 0:00:01\r\u001b[K     |██████████████████████████▌     | 296 kB 6.9 MB/s eta 0:00:01\r\u001b[K     |███████████████████████████▌    | 307 kB 6.9 MB/s eta 0:00:01\r\u001b[K     |████████████████████████████▍   | 317 kB 6.9 MB/s eta 0:00:01\r\u001b[K     |█████████████████████████████▎  | 327 kB 6.9 MB/s eta 0:00:01\r\u001b[K     |██████████████████████████████▏ | 337 kB 6.9 MB/s eta 0:00:01\r\u001b[K     |███████████████████████████████▏| 348 kB 6.9 MB/s eta 0:00:01\r\u001b[K     |████████████████████████████████| 357 kB 6.9 MB/s \n",
            "\u001b[?25hRequirement already satisfied: numpy in /usr/local/lib/python3.7/dist-packages (from control) (1.19.5)\n",
            "Requirement already satisfied: scipy in /usr/local/lib/python3.7/dist-packages (from control) (1.4.1)\n",
            "Requirement already satisfied: matplotlib in /usr/local/lib/python3.7/dist-packages (from control) (3.2.2)\n",
            "Requirement already satisfied: python-dateutil>=2.1 in /usr/local/lib/python3.7/dist-packages (from matplotlib->control) (2.8.2)\n",
            "Requirement already satisfied: pyparsing!=2.0.4,!=2.1.2,!=2.1.6,>=2.0.1 in /usr/local/lib/python3.7/dist-packages (from matplotlib->control) (3.0.7)\n",
            "Requirement already satisfied: kiwisolver>=1.0.1 in /usr/local/lib/python3.7/dist-packages (from matplotlib->control) (1.3.2)\n",
            "Requirement already satisfied: cycler>=0.10 in /usr/local/lib/python3.7/dist-packages (from matplotlib->control) (0.11.0)\n",
            "Requirement already satisfied: six>=1.5 in /usr/local/lib/python3.7/dist-packages (from python-dateutil>=2.1->matplotlib->control) (1.15.0)\n",
            "Building wheels for collected packages: control\n",
            "  Building wheel for control (setup.py) ... \u001b[?25l\u001b[?25hdone\n",
            "  Created wheel for control: filename=control-0.9.1-py2.py3-none-any.whl size=364703 sha256=bbe9ab012e530a92c8bf25b74a161f132738ac994ce8edb317762e9be0e63014\n",
            "  Stored in directory: /root/.cache/pip/wheels/b1/50/22/8005107713828997d1af664fbd629c7f935a1b87fc2f4ba6c1\n",
            "Successfully built control\n",
            "Installing collected packages: control\n",
            "Successfully installed control-0.9.1\n"
          ]
        }
      ]
    },
    {
      "cell_type": "code",
      "source": [
        "import control\n",
        "import plotly\n",
        "import numpy as np"
      ],
      "metadata": {
        "id": "1LcSzzlwwTvj"
      },
      "execution_count": 4,
      "outputs": []
    },
    {
      "cell_type": "markdown",
      "source": [
        "## Modelando e simulando um sistema de 1ª Ordem\n",
        "\n",
        "Utilizaremos o módulo control para a simulação de um sistema dinâmico, da mesma maneira que fazemos com o Matlab ou Octave.\n",
        "\n",
        "A Função Transferência de um Sistema de 1a Ordem é dada por:\n",
        "\n",
        "$F(s)=\\frac{K \\cdot e^{-\\theta \\cdot s}}{\\tau \\cdot s+1}$\n",
        "\n",
        "Lembrando:\n",
        "- $K$: Ganho Estático do Processo\n",
        "- $\\tau$: Constante de Tempo do Processo\n",
        "- $\\theta$: Tempo Morto do Processo"
      ],
      "metadata": {
        "id": "vNa9qvkGxQRY"
      }
    },
    {
      "cell_type": "code",
      "source": [
        "K = 1\n",
        "tau = 10\n",
        "theta = 1\n",
        "\n",
        "Nf = [K]\n",
        "Df = [tau,1]\n",
        "\n",
        "F = control.tf(Nf,Df)"
      ],
      "metadata": {
        "id": "biLNDQ4ixI2q"
      },
      "execution_count": 10,
      "outputs": []
    },
    {
      "cell_type": "code",
      "source": [
        "F"
      ],
      "metadata": {
        "colab": {
          "base_uri": "https://localhost:8080/",
          "height": 39
        },
        "id": "rPyz8TSA0ESs",
        "outputId": "556573bc-afc5-4722-b210-73d8e9af3e31"
      },
      "execution_count": 11,
      "outputs": [
        {
          "output_type": "execute_result",
          "data": {
            "text/latex": "$$\\frac{1}{10 s + 1}$$",
            "text/plain": [
              "TransferFunction(array([1]), array([10,  1]))"
            ]
          },
          "metadata": {},
          "execution_count": 11
        }
      ]
    },
    {
      "cell_type": "code",
      "source": [
        "control.delay.pade(theta,4)"
      ],
      "metadata": {
        "colab": {
          "base_uri": "https://localhost:8080/",
          "height": 173
        },
        "id": "CEppZ4ZP0FLh",
        "outputId": "ec5617d9-5d47-46e5-9d3d-539d6cd66e74"
      },
      "execution_count": 1,
      "outputs": [
        {
          "output_type": "error",
          "ename": "NameError",
          "evalue": "ignored",
          "traceback": [
            "\u001b[0;31m---------------------------------------------------------------------------\u001b[0m",
            "\u001b[0;31mNameError\u001b[0m                                 Traceback (most recent call last)",
            "\u001b[0;32m<ipython-input-1-e30f1c2b23cc>\u001b[0m in \u001b[0;36m<module>\u001b[0;34m()\u001b[0m\n\u001b[0;32m----> 1\u001b[0;31m \u001b[0mcontrol\u001b[0m\u001b[0;34m.\u001b[0m\u001b[0mdelay\u001b[0m\u001b[0;34m.\u001b[0m\u001b[0mpade\u001b[0m\u001b[0;34m(\u001b[0m\u001b[0mtheta\u001b[0m\u001b[0;34m,\u001b[0m\u001b[0;36m4\u001b[0m\u001b[0;34m)\u001b[0m\u001b[0;34m\u001b[0m\u001b[0;34m\u001b[0m\u001b[0m\n\u001b[0m",
            "\u001b[0;31mNameError\u001b[0m: name 'control' is not defined"
          ]
        }
      ]
    },
    {
      "cell_type": "code",
      "source": [
        ""
      ],
      "metadata": {
        "id": "G8EWD90n1hKE"
      },
      "execution_count": null,
      "outputs": []
    }
  ]
}