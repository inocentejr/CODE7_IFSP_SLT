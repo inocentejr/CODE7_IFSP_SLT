{
  "nbformat": 4,
  "nbformat_minor": 0,
  "metadata": {
    "colab": {
      "name": "TZI_Fracoes",
      "provenance": [],
      "collapsed_sections": [],
      "authorship_tag": "ABX9TyPTq+5dK1CWel6iKVlex4B9",
      "include_colab_link": true
    },
    "kernelspec": {
      "name": "python3",
      "display_name": "Python 3"
    },
    "language_info": {
      "name": "python"
    }
  },
  "cells": [
    {
      "cell_type": "markdown",
      "metadata": {
        "id": "view-in-github",
        "colab_type": "text"
      },
      "source": [
        "<a href=\"https://colab.research.google.com/github/inocentejr/CODE7_IFSP_SLT/blob/main/Aula4/TZI_Fracoes.ipynb\" target=\"_parent\"><img src=\"https://colab.research.google.com/assets/colab-badge.svg\" alt=\"Open In Colab\"/></a>"
      ]
    },
    {
      "cell_type": "code",
      "execution_count": 3,
      "metadata": {
        "id": "UrO9fFUYqJJO"
      },
      "outputs": [],
      "source": [
        "import sympy as sy"
      ]
    },
    {
      "cell_type": "code",
      "source": [
        "z = sy.symbols('z')"
      ],
      "metadata": {
        "id": "WvFdlLsCqO80"
      },
      "execution_count": 4,
      "outputs": []
    },
    {
      "cell_type": "code",
      "source": [
        "N1 = 1\n",
        "D1 = z**2*(z-0.5)\n",
        "F=N1/D1\n",
        "F"
      ],
      "metadata": {
        "colab": {
          "base_uri": "https://localhost:8080/",
          "height": 55
        },
        "id": "0LztNMvqqdAl",
        "outputId": "f23ebbde-7bfa-4568-a7e0-a9614e9c5e75"
      },
      "execution_count": 24,
      "outputs": [
        {
          "output_type": "execute_result",
          "data": {
            "text/plain": [
              "1/(z**2*(z - 0.5))"
            ],
            "text/latex": "$\\displaystyle \\frac{1}{z^{2} \\left(z - 0.5\\right)}$"
          },
          "metadata": {},
          "execution_count": 24
        }
      ]
    },
    {
      "cell_type": "code",
      "source": [
        "Fz = F/z\n",
        "Fz"
      ],
      "metadata": {
        "colab": {
          "base_uri": "https://localhost:8080/",
          "height": 55
        },
        "id": "C5Od3v-NCaO4",
        "outputId": "5fba58e1-665e-4ff0-cf42-4e8072a65c36"
      },
      "execution_count": 25,
      "outputs": [
        {
          "output_type": "execute_result",
          "data": {
            "text/plain": [
              "1/(z**3*(z - 0.5))"
            ],
            "text/latex": "$\\displaystyle \\frac{1}{z^{3} \\left(z - 0.5\\right)}$"
          },
          "metadata": {},
          "execution_count": 25
        }
      ]
    },
    {
      "cell_type": "code",
      "source": [
        "F_fp = z*sy.apart(Fz)\n",
        "F_fp"
      ],
      "metadata": {
        "colab": {
          "base_uri": "https://localhost:8080/",
          "height": 58
        },
        "id": "x27vL01YCgyq",
        "outputId": "977c30b5-5e4b-4f68-8437-f1491b12588f"
      },
      "execution_count": 26,
      "outputs": [
        {
          "output_type": "execute_result",
          "data": {
            "text/plain": [
              "z*(8.0/(1.0*z - 0.5) - 8.0/z - 4.0/z**2 - 2.0/z**3)"
            ],
            "text/latex": "$\\displaystyle z \\left(\\frac{8.0}{1.0 z - 0.5} - \\frac{8.0}{z} - \\frac{4.0}{z^{2}} - \\frac{2.0}{z^{3}}\\right)$"
          },
          "metadata": {},
          "execution_count": 26
        }
      ]
    },
    {
      "cell_type": "code",
      "source": [
        "Fz"
      ],
      "metadata": {
        "colab": {
          "base_uri": "https://localhost:8080/",
          "height": 55
        },
        "id": "sb1PqnENDwpP",
        "outputId": "3f0d337f-b690-4dae-f5b8-d8555e879dcf"
      },
      "execution_count": 27,
      "outputs": [
        {
          "output_type": "execute_result",
          "data": {
            "text/plain": [
              "1/(z**3*(z - 0.5))"
            ],
            "text/latex": "$\\displaystyle \\frac{1}{z^{3} \\left(z - 0.5\\right)}$"
          },
          "metadata": {},
          "execution_count": 27
        }
      ]
    },
    {
      "cell_type": "code",
      "source": [
        "raizes = sy.roots(sy.Poly(z*D1))\n",
        "raizes"
      ],
      "metadata": {
        "colab": {
          "base_uri": "https://localhost:8080/"
        },
        "id": "A2aHLM6ALQ6B",
        "outputId": "8ccb2a8b-8f2e-443c-c712-f3b83967bb3a"
      },
      "execution_count": 81,
      "outputs": [
        {
          "output_type": "execute_result",
          "data": {
            "text/plain": [
              "{0: 3, 0.500000000000000: 1}"
            ]
          },
          "metadata": {},
          "execution_count": 81
        }
      ]
    },
    {
      "cell_type": "markdown",
      "source": [
        "## Cálculo das Frações Parciais via Resíduos\n",
        "\n",
        "Uma função $F(z)$ pode ser decomposta da seguinte maneira:\n",
        "\n",
        "$\\frac{F(z)}{z} = \\frac{B(z)}{(z-p_1) \\cdot (z-p_1)^2 ... (z-p_1)^m}$\n",
        "\n",
        "$\\frac{F(z)}{z} = \\frac{c_{11}}{(z-p_1)}+\\frac{c_{12}}{(z-p_1)^2}+...+ \\frac{c_{1m}}{(z-p_1)^m}$\n",
        "\n",
        "Neste caso, $c_{ij}$ corresponde ao resíduo, definido por:\n",
        "\n",
        "${c_{ij}} = \\frac{1}{{(m - j)!}}{\\left[ {\\frac{{{d^{m - j}}}}{{d{z^{m - j}}}}{{(z - {p_i})}^m} \\cdot \\frac{{F(z)}}{z}} \\right]_{z = {p_i}}}$\n",
        "\n",
        "\n",
        "Algoritmo para cálculo:\n",
        "1. Extração do denominador da função\n",
        "1. Cálculo dos polos e multiplicidade\n",
        "1. Calculo dos residuos"
      ],
      "metadata": {
        "id": "Vep7q8u7RUke"
      }
    },
    {
      "cell_type": "code",
      "source": [
        "def fracoes_parciais(Fz):\n",
        "\n",
        "  N,D = sy.fraction(Fz)\n",
        "\n",
        "  raizes = sy.roots(sy.Poly(z*D1))\n",
        "\n",
        "  F = 0\n",
        "\n",
        "  for raiz in raizes:\n",
        "    m = raizes[raiz]\n",
        "    for k in range(m):\n",
        "      res = 1/sy.factorial(m-k-1)*(sy.diff((z-raiz)**m*Fz,z,m-k-1)).subs(z,raiz)\n",
        "      F += res/(z-raiz)**(k+1)\n",
        "  return F"
      ],
      "metadata": {
        "id": "ATS4LZKtLs1A"
      },
      "execution_count": 79,
      "outputs": []
    },
    {
      "cell_type": "code",
      "source": [
        "fracoes_parciais(Fz)"
      ],
      "metadata": {
        "colab": {
          "base_uri": "https://localhost:8080/",
          "height": 53
        },
        "id": "SbWkdDUqOej9",
        "outputId": "c5550e00-f4af-47ce-b258-ce9c79fc0631"
      },
      "execution_count": 80,
      "outputs": [
        {
          "output_type": "execute_result",
          "data": {
            "text/plain": [
              "8.0/(z - 0.5) - 8.0/z - 4.0/z**2 - 2.0/z**3"
            ],
            "text/latex": "$\\displaystyle \\frac{8.0}{z - 0.5} - \\frac{8.0}{z} - \\frac{4.0}{z^{2}} - \\frac{2.0}{z^{3}}$"
          },
          "metadata": {},
          "execution_count": 80
        }
      ]
    },
    {
      "cell_type": "code",
      "source": [
        ""
      ],
      "metadata": {
        "id": "ovdev48SVAMH"
      },
      "execution_count": null,
      "outputs": []
    }
  ]
}