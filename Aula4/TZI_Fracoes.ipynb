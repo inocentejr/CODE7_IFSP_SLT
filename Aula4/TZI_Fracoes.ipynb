{
  "nbformat": 4,
  "nbformat_minor": 0,
  "metadata": {
    "colab": {
      "name": "TZI_Fracoes",
      "provenance": [],
      "authorship_tag": "ABX9TyMqxwCe2FrQM2+v4Mqs04FF",
      "include_colab_link": true
    },
    "kernelspec": {
      "name": "python3",
      "display_name": "Python 3"
    },
    "language_info": {
      "name": "python"
    }
  },
  "cells": [
    {
      "cell_type": "markdown",
      "metadata": {
        "id": "view-in-github",
        "colab_type": "text"
      },
      "source": [
        "<a href=\"https://colab.research.google.com/github/inocentejr/CODE7_IFSP_SLT/blob/main/Aula4/TZI_Fracoes.ipynb\" target=\"_parent\"><img src=\"https://colab.research.google.com/assets/colab-badge.svg\" alt=\"Open In Colab\"/></a>"
      ]
    },
    {
      "cell_type": "code",
      "execution_count": 3,
      "metadata": {
        "id": "UrO9fFUYqJJO"
      },
      "outputs": [],
      "source": [
        "import sympy as sy"
      ]
    },
    {
      "cell_type": "code",
      "source": [
        "z = sy.symbols('z')"
      ],
      "metadata": {
        "id": "WvFdlLsCqO80"
      },
      "execution_count": 4,
      "outputs": []
    },
    {
      "cell_type": "code",
      "source": [
        "N1 = 1\n",
        "D1 = z**2*(z-0.5)\n",
        "F=N1/D1\n",
        "F"
      ],
      "metadata": {
        "colab": {
          "base_uri": "https://localhost:8080/",
          "height": 55
        },
        "id": "0LztNMvqqdAl",
        "outputId": "f23ebbde-7bfa-4568-a7e0-a9614e9c5e75"
      },
      "execution_count": 24,
      "outputs": [
        {
          "output_type": "execute_result",
          "data": {
            "text/plain": [
              "1/(z**2*(z - 0.5))"
            ],
            "text/latex": "$\\displaystyle \\frac{1}{z^{2} \\left(z - 0.5\\right)}$"
          },
          "metadata": {},
          "execution_count": 24
        }
      ]
    },
    {
      "cell_type": "code",
      "source": [
        "Fz = F/z\n",
        "Fz"
      ],
      "metadata": {
        "colab": {
          "base_uri": "https://localhost:8080/",
          "height": 55
        },
        "id": "C5Od3v-NCaO4",
        "outputId": "5fba58e1-665e-4ff0-cf42-4e8072a65c36"
      },
      "execution_count": 25,
      "outputs": [
        {
          "output_type": "execute_result",
          "data": {
            "text/plain": [
              "1/(z**3*(z - 0.5))"
            ],
            "text/latex": "$\\displaystyle \\frac{1}{z^{3} \\left(z - 0.5\\right)}$"
          },
          "metadata": {},
          "execution_count": 25
        }
      ]
    },
    {
      "cell_type": "code",
      "source": [
        "F_fp = z*sy.apart(Fz)\n",
        "F_fp"
      ],
      "metadata": {
        "colab": {
          "base_uri": "https://localhost:8080/",
          "height": 58
        },
        "id": "x27vL01YCgyq",
        "outputId": "977c30b5-5e4b-4f68-8437-f1491b12588f"
      },
      "execution_count": 26,
      "outputs": [
        {
          "output_type": "execute_result",
          "data": {
            "text/plain": [
              "z*(8.0/(1.0*z - 0.5) - 8.0/z - 4.0/z**2 - 2.0/z**3)"
            ],
            "text/latex": "$\\displaystyle z \\left(\\frac{8.0}{1.0 z - 0.5} - \\frac{8.0}{z} - \\frac{4.0}{z^{2}} - \\frac{2.0}{z^{3}}\\right)$"
          },
          "metadata": {},
          "execution_count": 26
        }
      ]
    },
    {
      "cell_type": "code",
      "source": [
        ""
      ],
      "metadata": {
        "id": "sb1PqnENDwpP"
      },
      "execution_count": null,
      "outputs": []
    }
  ]
}