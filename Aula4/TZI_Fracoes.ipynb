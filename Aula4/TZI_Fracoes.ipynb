{
  "nbformat": 4,
  "nbformat_minor": 0,
  "metadata": {
    "colab": {
      "name": "TZI_Fracoes",
      "provenance": [],
      "collapsed_sections": [],
      "authorship_tag": "ABX9TyMwiMvPCbG9DqjWqjkcVUPT",
      "include_colab_link": true
    },
    "kernelspec": {
      "name": "python3",
      "display_name": "Python 3"
    },
    "language_info": {
      "name": "python"
    }
  },
  "cells": [
    {
      "cell_type": "markdown",
      "metadata": {
        "id": "view-in-github",
        "colab_type": "text"
      },
      "source": [
        "<a href=\"https://colab.research.google.com/github/inocentejr/CODE7_IFSP_SLT/blob/main/Aula4/TZI_Fracoes.ipynb\" target=\"_parent\"><img src=\"https://colab.research.google.com/assets/colab-badge.svg\" alt=\"Open In Colab\"/></a>"
      ]
    },
    {
      "cell_type": "code",
      "execution_count": 3,
      "metadata": {
        "id": "UrO9fFUYqJJO"
      },
      "outputs": [],
      "source": [
        "import sympy as sy"
      ]
    },
    {
      "cell_type": "code",
      "source": [
        "z = sy.symbols('z')"
      ],
      "metadata": {
        "id": "WvFdlLsCqO80"
      },
      "execution_count": 172,
      "outputs": []
    },
    {
      "cell_type": "code",
      "source": [
        "N1 = 1\n",
        "D1 = z**2*(z-0.5)\n",
        "F=N1/D1\n",
        "F"
      ],
      "metadata": {
        "colab": {
          "base_uri": "https://localhost:8080/",
          "height": 55
        },
        "id": "0LztNMvqqdAl",
        "outputId": "de55359f-6683-4835-955e-cac0a5e113f7"
      },
      "execution_count": 173,
      "outputs": [
        {
          "output_type": "execute_result",
          "data": {
            "text/plain": [
              "1/(z**2*(z - 0.5))"
            ],
            "text/latex": "$\\displaystyle \\frac{1}{z^{2} \\left(z - 0.5\\right)}$"
          },
          "metadata": {},
          "execution_count": 173
        }
      ]
    },
    {
      "cell_type": "code",
      "source": [
        "F_fp = z*sy.apart(F/z)\n",
        "F_fp"
      ],
      "metadata": {
        "colab": {
          "base_uri": "https://localhost:8080/",
          "height": 58
        },
        "id": "x27vL01YCgyq",
        "outputId": "504cd230-40b2-42af-8438-71ea60236c8d"
      },
      "execution_count": 174,
      "outputs": [
        {
          "output_type": "execute_result",
          "data": {
            "text/plain": [
              "z*(8.0/(1.0*z - 0.5) - 8.0/z - 4.0/z**2 - 2.0/z**3)"
            ],
            "text/latex": "$\\displaystyle z \\left(\\frac{8.0}{1.0 z - 0.5} - \\frac{8.0}{z} - \\frac{4.0}{z^{2}} - \\frac{2.0}{z^{3}}\\right)$"
          },
          "metadata": {},
          "execution_count": 174
        }
      ]
    },
    {
      "cell_type": "code",
      "source": [
        "raizes = sy.roots(sy.Poly(z*D1))\n",
        "raizes"
      ],
      "metadata": {
        "colab": {
          "base_uri": "https://localhost:8080/"
        },
        "id": "A2aHLM6ALQ6B",
        "outputId": "b928c432-3f14-49c6-ae43-0fd33b7a9af1"
      },
      "execution_count": 175,
      "outputs": [
        {
          "output_type": "execute_result",
          "data": {
            "text/plain": [
              "{0: 3, 0.500000000000000: 1}"
            ]
          },
          "metadata": {},
          "execution_count": 175
        }
      ]
    },
    {
      "cell_type": "markdown",
      "source": [
        "## Cálculo das Frações Parciais via Resíduos\n",
        "\n",
        "Uma função $F(z)$ pode ser decomposta da seguinte maneira:\n",
        "\n",
        "$\\frac{F(z)}{z} = \\frac{B(z)}{(z-p_1) \\cdot (z-p_1)^2 ... (z-p_1)^m}$\n",
        "\n",
        "$\\frac{F(z)}{z} = \\frac{c_{11}}{(z-p_1)}+\\frac{c_{12}}{(z-p_1)^2}+...+ \\frac{c_{1m}}{(z-p_1)^m}$\n",
        "\n",
        "Neste caso, $c_{ij}$ corresponde ao resíduo, definido por:\n",
        "\n",
        "${c_{ij}} = \\frac{1}{{(m - j)!}}{\\left[ {\\frac{{{d^{m - j}}}}{{d{z^{m - j}}}}{{(z - {p_i})}^m} \\cdot \\frac{{F(z)}}{z}} \\right]_{z = {p_i}}}$\n",
        "\n",
        "\n",
        "Algoritmo para cálculo:\n",
        "1. Extração do denominador da função\n",
        "1. Cálculo dos polos e multiplicidade\n",
        "1. Calculo dos residuos"
      ],
      "metadata": {
        "id": "Vep7q8u7RUke"
      }
    },
    {
      "cell_type": "code",
      "source": [
        "def fracoes_parciais(Fz):\n",
        "\n",
        "  N,D = sy.fraction((Fz/z).simplify())\n",
        "\n",
        "  raizes = sy.roots(sy.Poly(D))\n",
        "  #print(raizes)\n",
        "\n",
        "  F = 0\n",
        "  \n",
        "  for raiz in raizes:\n",
        "    m = raizes[raiz]\n",
        "    for k in range(m):\n",
        "      #print(raiz)\n",
        "      #print('m:',m)\n",
        "      #print('k:',k)\n",
        "      res = 1/sy.factorial(m-k-1)*(sy.diff((z-raiz)**m*Fz/z,z,m-k-1)).simplify().subs(z,raiz)\n",
        "      \n",
        "      F += res/(z-raiz)**(k+1)\n",
        "      #print(F)\n",
        "  return F*z"
      ],
      "metadata": {
        "id": "ATS4LZKtLs1A"
      },
      "execution_count": 176,
      "outputs": []
    },
    {
      "cell_type": "code",
      "source": [
        "fracoes_parciais(F)"
      ],
      "metadata": {
        "colab": {
          "base_uri": "https://localhost:8080/",
          "height": 58
        },
        "id": "SbWkdDUqOej9",
        "outputId": "563958cc-0d82-40cd-8d6f-57a9c08b8c08"
      },
      "execution_count": 177,
      "outputs": [
        {
          "output_type": "execute_result",
          "data": {
            "text/plain": [
              "z*(8.0/(z - 0.5) - 8.0/z - 4.0/z**2 - 2.0/z**3)"
            ],
            "text/latex": "$\\displaystyle z \\left(\\frac{8.0}{z - 0.5} - \\frac{8.0}{z} - \\frac{4.0}{z^{2}} - \\frac{2.0}{z^{3}}\\right)$"
          },
          "metadata": {},
          "execution_count": 177
        }
      ]
    },
    {
      "cell_type": "code",
      "source": [
        "F2 = -3.894*z/(z**2+0.6065)\n",
        "F2"
      ],
      "metadata": {
        "colab": {
          "base_uri": "https://localhost:8080/",
          "height": 53
        },
        "id": "ovdev48SVAMH",
        "outputId": "96c7ab72-5596-41af-878b-f2d85027d594"
      },
      "execution_count": 180,
      "outputs": [
        {
          "output_type": "execute_result",
          "data": {
            "text/plain": [
              "-3.894*z/(z**2 + 0.6065)"
            ],
            "text/latex": "$\\displaystyle - \\frac{3.894 z}{z^{2} + 0.6065}$"
          },
          "metadata": {},
          "execution_count": 180
        }
      ]
    },
    {
      "cell_type": "code",
      "source": [
        "fracoes_parciais(F2)"
      ],
      "metadata": {
        "colab": {
          "base_uri": "https://localhost:8080/",
          "height": 58
        },
        "id": "Q84Gx4CGnctv",
        "outputId": "3750943c-6f89-42af-dc8a-0af53e371f5e"
      },
      "execution_count": 181,
      "outputs": [
        {
          "output_type": "execute_result",
          "data": {
            "text/plain": [
              "z*(-2.5000606752736*I/(z + 0.778781098897501*I) + 2.5000606752736*I/(z - 0.778781098897501*I))"
            ],
            "text/latex": "$\\displaystyle z \\left(- \\frac{2.5000606752736 i}{z + 0.778781098897501 i} + \\frac{2.5000606752736 i}{z - 0.778781098897501 i}\\right)$"
          },
          "metadata": {},
          "execution_count": 181
        }
      ]
    },
    {
      "cell_type": "code",
      "source": [
        ""
      ],
      "metadata": {
        "id": "BxbtZjDd_Jl0"
      },
      "execution_count": null,
      "outputs": []
    }
  ]
}